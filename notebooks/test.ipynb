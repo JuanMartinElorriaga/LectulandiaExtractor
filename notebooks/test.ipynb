{
 "cells": [
  {
   "cell_type": "code",
   "execution_count": 5,
   "metadata": {},
   "outputs": [],
   "source": [
    "from queue import Queue\n",
    "from threading import Thread\n",
    "import werkzeug\n",
    "werkzeug.cached_property = werkzeug.utils.cached_property\n",
    "from robobrowser import RoboBrowser\n",
    "import re\n",
    "import time\n",
    "from requests import Session"
   ]
  },
  {
   "cell_type": "code",
   "execution_count": 66,
   "metadata": {},
   "outputs": [],
   "source": [
    "class Downloader():\n",
    "    def __init__(self, proxy=None, worker_num=0):\n",
    "        self.worker_num = worker_num\n",
    "        session         = Session()\n",
    "        if proxy is not None:\n",
    "            session.proxies = {'http': proxy, 'https': proxy}\n",
    "        self.browser = RoboBrowser(history=True, parser='html.parser', session=session)\n",
    "\n",
    "    def get_book_url(self, book):\n",
    "        ''' Make a book search in the search box '''\n",
    "        self.browser.open('https://ww3.lectulandia.com/')\n",
    "        self.book       = book\n",
    "        form            = self.browser.get_form(action='/')\n",
    "        form['s'].value = self.book\n",
    "        self.browser.submit_form(form)\n",
    "        return form\n",
    "\n",
    "\n",
    "    def get_download_link(self, book_url):\n",
    "        self.browser.open(book_url)\n",
    "        for link in self.browser.find_all(\"a\"):\n",
    "            if \"download.php?t=1\" in str(link):\n",
    "                return f\"https://www.lectulandia.com{link['href']}\"\n",
    "\n",
    "    def download_book(self, download_url):\n",
    "        self.browser.open(download_url)\n",
    "        pattern = re.compile(\"var linkCode = \\\"(.*?)\\\";\")\n",
    "        section = pattern.findall(str(self.browser.parsed))\n",
    "        bee_url = f'https://www.beeupload.net/file/{section[0]}'\n",
    "        self.browser.open(bee_url)\n",
    "        try:\n",
    "            filename = self.browser.find(\n",
    "                \"div\", id=\"fileDescription\").find_all(\"p\")[1].text.replace(\n",
    "                    \"Name: \", \"\")\n",
    "\n",
    "            size = self.browser.find(\n",
    "                \"div\", id=\"fileDescription\").find_all(\"p\")[2].text\n",
    "            file_url = self.browser.find(\"a\", id=\"downloadB\")\n",
    "            time.sleep(2)\n",
    "            self.browser.follow_link(file_url)\n",
    "            with open(f\"books/{filename}\", \"wb\") as epub_file:\n",
    "                epub_file.write(self.browser.response.content)\n",
    "            return filename, size\n",
    "        except:\n",
    "            print(self.browser.parsed)\n",
    "\n",
    "    def get_book_page_list(self, page):\n",
    "        self.browser.open(f'https://www.lectulandia.com/book/page/{page}/')\n",
    "        return [\n",
    "            f\"https://www.lectulandia.com{book['href']}\"\n",
    "            for book in self.browser.find_all(\"a\", class_=\"card-click-target\")\n",
    "        ]\n",
    "\n",
    "    def download_full_page(self, page):\n",
    "        print(f\"Downloading page: {page}\")\n",
    "        books = self.get_book_page_list(page)\n",
    "        for book in books:\n",
    "            time.sleep(2)\n",
    "            download_url = self.get_download_link(book)\n",
    "            print(f\"Worker: {self.worker_num} on page: {page}\", self.download_book(download_url))\n",
    "\n",
    "\n",
    "class Worker(Thread):\n",
    "    def __init__(self, queue, worker_number, proxy=None):\n",
    "        Thread.__init__(self)\n",
    "        self.queue      = queue\n",
    "        self.downloader = Downloader(proxy)\n",
    "        self.wrk_num    = worker_number\n",
    "\n",
    "    def run(self):\n",
    "        while True:\n",
    "            page = self.queue.get()\n",
    "            try:\n",
    "                print(f\"Worker: {self.wrk_num} downloading page: {page}\")\n",
    "                self.downloader.download_full_page(page)\n",
    "            finally:\n",
    "                self.queue.task_done()\n",
    "\n",
    "\n",
    "def main():\n",
    "    pages   = [x + 1 for x in range(8)]\n",
    "    proxies = None#[None, \"https://188.168.75.254:56899\"]\n",
    "    queue   = Queue()\n",
    "    for x in range(2):\n",
    "        worker = Worker(queue, x, proxies[x])\n",
    "        worker.daemon = True\n",
    "        worker.start()\n",
    "\n",
    "    for page in pages:\n",
    "        queue.put(page)\n",
    "\n",
    "    queue.join()\n"
   ]
  },
  {
   "cell_type": "code",
   "execution_count": 67,
   "metadata": {},
   "outputs": [],
   "source": [
    "book = Downloader(worker_num=1)"
   ]
  },
  {
   "cell_type": "code",
   "execution_count": 68,
   "metadata": {},
   "outputs": [
    {
     "data": {
      "text/plain": [
       "<RoboForm s=Guerrero>"
      ]
     },
     "execution_count": 68,
     "metadata": {},
     "output_type": "execute_result"
    }
   ],
   "source": [
    "book.get_book_url(\"Guerrero\")"
   ]
  },
  {
   "cell_type": "code",
   "execution_count": 33,
   "metadata": {},
   "outputs": [
    {
     "name": "stdout",
     "output_type": "stream",
     "text": [
      "https://www.lectulandia.com/download.php?t=1&d=eHRxaXk0cEcv&ti=Guerrero\n"
     ]
    }
   ],
   "source": [
    "session = Session()\n",
    "browser = RoboBrowser(history=True, parser='html.parser', session=session)\n",
    "browser.open(\"https://ww3.lectulandia.com/book/guerrero-simon-scarrow/\")\n",
    "for link in browser.find_all(\"a\"):\n",
    "    if \"download.php?t=1\" in str(link):\n",
    "        download_url = \"https://www.lectulandia.com\" + str(link['href'])\n",
    "        print(download_url)\n",
    "\n",
    "browser.open(download_url)\n",
    "time.sleep(1)\n",
    "pattern    = re.compile(\"var linkCode = \\\"(.*?)\\\";\")\n",
    "section    = pattern.findall(str(browser.parsed))\n",
    "bee_url    = f'https://www.beeupload.net/file/{section[0]}'\n",
    "ant_upload = f'https://www.antupload.com/filed/{section[0]}'"
   ]
  },
  {
   "cell_type": "code",
   "execution_count": 36,
   "metadata": {},
   "outputs": [
    {
     "data": {
      "text/plain": [
       "['xtqiy4pG/']"
      ]
     },
     "execution_count": 36,
     "metadata": {},
     "output_type": "execute_result"
    }
   ],
   "source": [
    "download_url = book.get_download_link()\n",
    "book = download_book()"
   ]
  },
  {
   "cell_type": "code",
   "execution_count": null,
   "metadata": {},
   "outputs": [],
   "source": [
    "https://www.antupload.com/filed/xtqiy4pG/Guerrero+-+Simon+Scarrow"
   ]
  }
 ],
 "metadata": {
  "kernelspec": {
   "display_name": "scrapper_env",
   "language": "python",
   "name": "python3"
  },
  "language_info": {
   "codemirror_mode": {
    "name": "ipython",
    "version": 3
   },
   "file_extension": ".py",
   "mimetype": "text/x-python",
   "name": "python",
   "nbconvert_exporter": "python",
   "pygments_lexer": "ipython3",
   "version": "3.11.4"
  }
 },
 "nbformat": 4,
 "nbformat_minor": 2
}
