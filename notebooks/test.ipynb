{
 "cells": [
  {
   "cell_type": "code",
   "execution_count": 3,
   "metadata": {},
   "outputs": [],
   "source": [
    "from queue import Queue\n",
    "from threading import Thread\n",
    "import werkzeug\n",
    "werkzeug.cached_property = werkzeug.utils.cached_property\n",
    "from robobrowser import RoboBrowser\n",
    "import re\n",
    "import time\n",
    "from requests import Session"
   ]
  },
  {
   "cell_type": "code",
   "execution_count": 131,
   "metadata": {},
   "outputs": [],
   "source": [
    "class Downloader():\n",
    "    def __init__(self, proxy=None, worker_num=0):\n",
    "        self.worker_num = worker_num\n",
    "        session         = Session()\n",
    "        if proxy is not None:\n",
    "            session.proxies = {'http': proxy, 'https': proxy}\n",
    "        self.browser = RoboBrowser(history=True, parser='html.parser', session=session)\n",
    "\n",
    "    def get_author_url(self, author):\n",
    "        ''' Get author url from input given '''\n",
    "        author_name = author.replace(\" \", \"-\").lower()\n",
    "        author_url  = f'https://ww3.lectulandia.com/autor/{author_name}'\n",
    "        return author_url\n",
    "\n",
    "    def get_books_titles_from_author_url(self, author_url):\n",
    "        self.browser.open(author_url)\n",
    "        books_titles_from_author = [\n",
    "            f\"{book['title']}\"\n",
    "            for book in self.browser.find_all(\"a\", class_=\"title\")]\n",
    "        print(f'Number of titles retrieved: {len(books_titles_from_author)}')\n",
    "        return books_titles_from_author\n",
    "\n",
    "    def get_urls_from_author_url(self, author_url):\n",
    "        self.browser.open(author_url)\n",
    "        urls_from_author = [\n",
    "            f\"https://ww3.lectulandia.com{book['href']}\"\n",
    "            for book in self.browser.find_all(\"a\", class_=\"card-click-target\")]\n",
    "        return urls_from_author\n",
    "\n",
    "\n",
    "    def get_download_link(self, book_url):\n",
    "        self.browser.open(book_url)\n",
    "        for link in self.browser.find_all(\"a\"):\n",
    "            if \"download.php?t=1\" in str(link):\n",
    "                return f\"https://www.lectulandia.com{link['href']}\"\n",
    "\n",
    "\n",
    "    def get_batch_download_links(self, urls_from_author):\n",
    "        download_links = [self.get_download_link(book_url) for book_url in urls_from_author]\n",
    "        return download_links\n",
    "\n",
    "    def download_book(self, download_url):\n",
    "        self.browser.open(download_url)\n",
    "        pattern = re.compile(\"var linkCode = \\\"(.*?)\\\";\")\n",
    "        section = pattern.findall(str(self.browser.parsed))\n",
    "        ant_url = f'https://www.antupload.com/file/{section[0]}'\n",
    "        print(ant_url)\n",
    "        self.browser.open(ant_url)\n",
    "        print('opened')\n",
    "        try:\n",
    "            filename = self.browser.find(\n",
    "                \"div\", id=\"fileDescription\").find_all(\"p\")[1].text.replace(\n",
    "                    \"Name: \", \"\")\n",
    "            print(filename)\n",
    "\n",
    "            size = self.browser.find(\n",
    "                \"div\", id=\"fileDescription\").find_all(\"p\")[2].text\n",
    "            file_url = self.browser.find(\"a\", id=\"downloadB\")\n",
    "            print(size)\n",
    "            time.sleep(2)\n",
    "            self.browser.follow_link(file_url)\n",
    "            with open(f\"books/{filename}\", \"wb\") as epub_file:\n",
    "                epub_file.write(self.browser.response.content)\n",
    "            return filename, size\n",
    "        except:\n",
    "            print(self.browser.parsed)\n",
    "\n",
    "\n",
    "    def batch_download_books(self, urls_from_author):\n",
    "        for url in urls_from_author:\n",
    "            self.download_book(url)\n",
    "            #time.sleep(1)\n",
    "\n",
    "\n",
    "    def get_book_page_list(self, page:int):\n",
    "        self.browser.open(f'https://ww3.lectulandia.com/book/page/{page}/')\n",
    "        return [\n",
    "            f\"https://www.lectulandia.cc{book['href']}\"\n",
    "            for book in self.browser.find_all(\"a\", class_=\"card-click-target\")\n",
    "        ]\n",
    "\n",
    "    def download_full_page(self, page:int):\n",
    "        print(f\"Downloading page: {page} \")\n",
    "        books = self.get_book_page_list(page)\n",
    "        for book in books:\n",
    "            time.sleep(2)\n",
    "            download_url = self.get_download_link(book)\n",
    "            print(f\"Worker: {self.worker_num} on page: {page}\", self.download_book(download_url))\n",
    "\n",
    "class Worker(Thread):\n",
    "    def __init__(self, queue, worker_number, proxy=None):\n",
    "        Thread.__init__(self)\n",
    "        self.queue      = queue\n",
    "        self.downloader = Downloader(proxy)\n",
    "        self.wrk_num    = worker_number\n",
    "\n",
    "    def run(self):\n",
    "        while True:\n",
    "            page = self.queue.get()\n",
    "            try:\n",
    "                print(f\"Worker: {self.wrk_num} downloading page: {page}\")\n",
    "                self.downloader.download_full_page(page)\n",
    "            finally:\n",
    "                self.queue.task_done()\n",
    "\n",
    "\n",
    "def main():\n",
    "    pages   = [x + 1 for x in range(8)]\n",
    "    proxies = None#[None, \"https://188.168.75.254:56899\"]\n",
    "    queue   = Queue()\n",
    "    for x in range(2):\n",
    "        worker = Worker(queue, x, proxies[x])\n",
    "        worker.daemon = True\n",
    "        worker.start()\n",
    "\n",
    "    for page in pages:\n",
    "        queue.put(page)\n",
    "\n",
    "    queue.join()\n"
   ]
  },
  {
   "cell_type": "code",
   "execution_count": 132,
   "metadata": {},
   "outputs": [],
   "source": [
    "test = Downloader(worker_num=1)"
   ]
  },
  {
   "cell_type": "code",
   "execution_count": 133,
   "metadata": {},
   "outputs": [
    {
     "data": {
      "text/plain": [
       "['https://www.lectulandia.com/download.php?t=1&d=ZWs0MmhzR1Av&ti=Origen',\n",
       " 'https://www.lectulandia.com/download.php?t=1&d=emFWTUl4RU8v&ti=Inferno+%28Version+Latina%29',\n",
       " 'https://www.lectulandia.com/download.php?t=1&d=WE52bnpKRmcv&ti=Inferno+%28Version+Espa%C3%B1ola%29',\n",
       " 'https://www.lectulandia.com/download.php?t=1&d=eWRLdUIyYmsv&ti=El+s%C3%ADmbolo+perdido',\n",
       " 'https://www.lectulandia.com/download.php?t=1&d=NnJtNFBSdHAv&ti=La+fortaleza+digital',\n",
       " 'https://www.lectulandia.com/download.php?t=1&d=Q2I3QUZ4V3cv&ti=%C3%81ngeles+y+demonios',\n",
       " 'https://www.lectulandia.com/download.php?t=1&d=WDhjUWJ2RDcv&ti=La+conspiraci%C3%B3n',\n",
       " 'https://www.lectulandia.com/download.php?t=1&d=ODBjQVA0RFEv&ti=El+c%C3%B3digo+Da+Vinci']"
      ]
     },
     "execution_count": 133,
     "metadata": {},
     "output_type": "execute_result"
    }
   ],
   "source": [
    "author_url       = test.get_author_url(\"dan Brown\")\n",
    "urls_from_author = test.get_urls_from_author_url(author_url)\n",
    "urls_from_author\n",
    "#test.get_urls_from_author_url(author_url)\n",
    "downloaded_link  = test.get_download_link(urls_from_author[0])\n",
    "downloaded_links = test.get_batch_download_links(urls_from_author)\n",
    "downloaded_links"
   ]
  },
  {
   "cell_type": "code",
   "execution_count": 135,
   "metadata": {},
   "outputs": [
    {
     "name": "stdout",
     "output_type": "stream",
     "text": [
      "https://www.antupload.com/file/ek42hsGP/\n",
      "opened\n",
      "Origen - Dan Brown.epub\n",
      "Size: 1.08 MB\n",
      "https://www.antupload.com/file/zaVMIxEO/\n",
      "opened\n",
      "Inferno (Version Latina) - Dan Brown.epub\n",
      "Size: 1.47 MB\n",
      "https://www.antupload.com/file/XNvnzJFg/\n",
      "opened\n",
      "Inferno - Dan Brown.epub\n",
      "Size: 1.19 MB\n",
      "https://www.antupload.com/file/ydKuB2bk/\n",
      "opened\n",
      "El simbolo perdido - Dan Brown.epub\n",
      "Size: 1.86 MB\n",
      "https://www.antupload.com/file/6rm4PRtp/\n",
      "opened\n",
      "La fortaleza digital - Dan Brown.epub\n",
      "Size: 0.50 MB\n",
      "https://www.antupload.com/file/Cb7AFxWw/\n",
      "opened\n",
      "Angeles y demonios - Dan Brown.epub\n",
      "Size: 1.63 MB\n",
      "https://www.antupload.com/file/X8cQbvD7/\n",
      "opened\n",
      "La conspiracion - Dan Brown.epub\n",
      "Size: 0.78 MB\n",
      "https://www.antupload.com/file/80cAP4DQ/\n",
      "opened\n",
      "El codigo Da Vinci - Dan Brown.epub\n",
      "Size: 0.72 MB\n"
     ]
    }
   ],
   "source": [
    "test.batch_download_books(downloaded_links)"
   ]
  },
  {
   "cell_type": "code",
   "execution_count": null,
   "metadata": {},
   "outputs": [],
   "source": []
  },
  {
   "cell_type": "code",
   "execution_count": null,
   "metadata": {},
   "outputs": [],
   "source": []
  },
  {
   "cell_type": "code",
   "execution_count": null,
   "metadata": {},
   "outputs": [],
   "source": []
  },
  {
   "cell_type": "markdown",
   "metadata": {},
   "source": [
    "https://www.antupload.com/filed/ek42hsGP/Origen+-+Dan+Brown"
   ]
  }
 ],
 "metadata": {
  "kernelspec": {
   "display_name": "scrapper_env",
   "language": "python",
   "name": "python3"
  },
  "language_info": {
   "codemirror_mode": {
    "name": "ipython",
    "version": 3
   },
   "file_extension": ".py",
   "mimetype": "text/x-python",
   "name": "python",
   "nbconvert_exporter": "python",
   "pygments_lexer": "ipython3",
   "version": "3.11.4"
  }
 },
 "nbformat": 4,
 "nbformat_minor": 2
}
