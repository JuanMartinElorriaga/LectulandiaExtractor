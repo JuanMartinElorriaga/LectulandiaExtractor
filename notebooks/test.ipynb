{
 "cells": [
  {
   "cell_type": "code",
   "execution_count": 3,
   "metadata": {},
   "outputs": [],
   "source": [
    "from queue import Queue\n",
    "from threading import Thread\n",
    "import werkzeug\n",
    "werkzeug.cached_property = werkzeug.utils.cached_property\n",
    "from robobrowser import RoboBrowser\n",
    "import re\n",
    "import time\n",
    "from requests import Session"
   ]
  },
  {
   "cell_type": "code",
   "execution_count": 115,
   "metadata": {},
   "outputs": [],
   "source": [
    "class Downloader():\n",
    "    def __init__(self, proxy=None, worker_num=0):\n",
    "        self.worker_num = worker_num\n",
    "        session         = Session()\n",
    "        if proxy is not None:\n",
    "            session.proxies = {'http': proxy, 'https': proxy}\n",
    "        self.browser = RoboBrowser(history=True, parser='html.parser', session=session)\n",
    "\n",
    "    def get_author_url(self, author):\n",
    "        ''' Get author url from input given '''\n",
    "        author_name = author.replace(\" \", \"-\").lower()\n",
    "        author_url  = f'https://ww3.lectulandia.com/autor/{author_name}'\n",
    "        return author_url\n",
    "\n",
    "    def get_books_titles_from_author_url(self, author_url):\n",
    "        self.browser.open(author_url)\n",
    "        books_titles_from_author = [\n",
    "            f\"{book['title']}\"\n",
    "            for book in self.browser.find_all(\"a\", class_=\"title\")]\n",
    "        print(f'Number of titles retrieved: {len(books_titles_from_author)}')\n",
    "        return books_titles_from_author\n",
    "\n",
    "    def get_urls_from_author_url(self, author_url):\n",
    "        self.browser.open(author_url)\n",
    "        urls_from_author = [\n",
    "            f\"https://ww3.lectulandia.com{book['href']}\"\n",
    "            for book in self.browser.find_all(\"a\", class_=\"card-click-target\")]\n",
    "        return urls_from_author\n",
    "\n",
    "\n",
    "    def get_download_link(self, book_url):\n",
    "        self.browser.open(book_url)\n",
    "        for link in self.browser.find_all(\"a\"):\n",
    "            if \"download.php?t=1\" in str(link):\n",
    "                return f\"https://www.lectulandia.com{link['href']}\"\n",
    "\n",
    "\n",
    "    def get_batch_download_links(self, urls_from_author):\n",
    "        download_links = [self.get_download_link(book_url) for book_url in urls_from_author]\n",
    "        return download_links\n",
    "\n",
    "\n",
    "    def download_book(self, download_url):\n",
    "        self.browser.open(download_url)\n",
    "        pattern = re.compile(\"var linkCode = \\\"(.*?)\\\";\")\n",
    "        section = pattern.findall(str(self.browser.parsed))\n",
    "        ant_url = f'https://www.antupload.com/file/{section[0]}'\n",
    "        print(ant_url)\n",
    "        self.browser.open(ant_url)\n",
    "        print('opened')\n",
    "        try:\n",
    "            filename = self.browser.find(\n",
    "                \"div\", id=\"fileDescription\").find_all(\"p\")[1].text.replace(\n",
    "                    \"Name: \", \"\")\n",
    "            print(filename)\n",
    "\n",
    "            size = self.browser.find(\n",
    "                \"div\", id=\"fileDescription\").find_all(\"p\")[2].text\n",
    "            file_url = self.browser.find(\"a\", id=\"downloadB\")\n",
    "            print(size)\n",
    "            time.sleep(2)\n",
    "            self.browser.follow_link(file_url)\n",
    "            with open(f\"books/{filename}\", \"wb\") as epub_file:\n",
    "                epub_file.write(self.browser.response.content)\n",
    "            return filename, size\n",
    "        except:\n",
    "            print(self.browser.parsed)\n",
    "\n",
    "\n",
    "class Worker(Thread):\n",
    "    def __init__(self, queue, worker_number, proxy=None):\n",
    "        Thread.__init__(self)\n",
    "        self.queue      = queue\n",
    "        self.downloader = Downloader(proxy)\n",
    "        self.wrk_num    = worker_number\n",
    "\n",
    "    def run(self):\n",
    "        while True:\n",
    "            page = self.queue.get()\n",
    "            try:\n",
    "                print(f\"Worker: {self.wrk_num} downloading page: {page}\")\n",
    "                self.downloader.download_full_page(page)\n",
    "            finally:\n",
    "                self.queue.task_done()\n",
    "\n",
    "\n",
    "def main():\n",
    "    pages   = [x + 1 for x in range(8)]\n",
    "    proxies = None#[None, \"https://188.168.75.254:56899\"]\n",
    "    queue   = Queue()\n",
    "    for x in range(2):\n",
    "        worker = Worker(queue, x, proxies[x])\n",
    "        worker.daemon = True\n",
    "        worker.start()\n",
    "\n",
    "    for page in pages:\n",
    "        queue.put(page)\n",
    "\n",
    "    queue.join()\n"
   ]
  },
  {
   "cell_type": "code",
   "execution_count": 116,
   "metadata": {},
   "outputs": [],
   "source": [
    "test = Downloader(worker_num=1)"
   ]
  },
  {
   "cell_type": "code",
   "execution_count": 117,
   "metadata": {},
   "outputs": [
    {
     "data": {
      "text/plain": [
       "'https://www.lectulandia.com/download.php?t=1&d=ZWs0MmhzR1Av&ti=Origen'"
      ]
     },
     "execution_count": 117,
     "metadata": {},
     "output_type": "execute_result"
    }
   ],
   "source": [
    "author_url       = test.get_author_url(\"dan Brown\")\n",
    "urls_from_author = test.get_urls_from_author_url(author_url)\n",
    "urls_from_author\n",
    "#test.get_urls_from_author_url(author_url)\n",
    "downloaded_link = test.get_download_link(urls_from_author[0])\n",
    "#test.get_batch_download_links(urls_from_author)\n",
    "downloaded_link"
   ]
  },
  {
   "cell_type": "code",
   "execution_count": 118,
   "metadata": {},
   "outputs": [
    {
     "name": "stdout",
     "output_type": "stream",
     "text": [
      "https://www.antupload.com/file/ek42hsGP/\n",
      "opened\n",
      "Origen - Dan Brown.epub\n",
      "Size: 1.08 MB\n"
     ]
    },
    {
     "data": {
      "text/plain": [
       "('Origen - Dan Brown.epub', 'Size: 1.08 MB')"
      ]
     },
     "execution_count": 118,
     "metadata": {},
     "output_type": "execute_result"
    }
   ],
   "source": [
    "test.download_book(downloaded_link)"
   ]
  },
  {
   "cell_type": "code",
   "execution_count": null,
   "metadata": {},
   "outputs": [],
   "source": []
  },
  {
   "cell_type": "code",
   "execution_count": null,
   "metadata": {},
   "outputs": [],
   "source": []
  },
  {
   "cell_type": "code",
   "execution_count": null,
   "metadata": {},
   "outputs": [],
   "source": []
  },
  {
   "cell_type": "markdown",
   "metadata": {},
   "source": [
    "https://www.antupload.com/filed/ek42hsGP/Origen+-+Dan+Brown"
   ]
  }
 ],
 "metadata": {
  "kernelspec": {
   "display_name": "scrapper_env",
   "language": "python",
   "name": "python3"
  },
  "language_info": {
   "codemirror_mode": {
    "name": "ipython",
    "version": 3
   },
   "file_extension": ".py",
   "mimetype": "text/x-python",
   "name": "python",
   "nbconvert_exporter": "python",
   "pygments_lexer": "ipython3",
   "version": "3.11.4"
  }
 },
 "nbformat": 4,
 "nbformat_minor": 2
}
