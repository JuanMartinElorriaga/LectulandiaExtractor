{
 "cells": [
  {
   "cell_type": "markdown",
   "metadata": {},
   "source": [
    "# Dir organizer\n",
    "- Remueve los archivos .epub o .mobi huérfanos (es decir, que se encuentra a un nivel de profundidad del directorio raiz. Esto significa que son archivos que no hay sido indexados por la base de datos de Calibre.)\n",
    "\n",
    "- **NOTA**: correr el indexado de Calibre antes de correr esta función!"
   ]
  },
  {
   "cell_type": "code",
   "execution_count": null,
   "metadata": {},
   "outputs": [],
   "source": [
    "import os\n",
    "from collections import defaultdict\n",
    "\n",
    "def delete_orphans(root_path):\n",
    "    deleted_files = []\n",
    "    summary = defaultdict(int)\n",
    "\n",
    "    # Listar las carpetas de primer nivel\n",
    "    for entry in os.listdir(root_path):\n",
    "        entry_path = os.path.join(root_path, entry)\n",
    "        if os.path.isdir(entry_path):\n",
    "            # Buscar archivos en el primer nivel de la subcarpeta\n",
    "            for file in os.listdir(entry_path):\n",
    "                file_path = os.path.join(entry_path, file)\n",
    "                if os.path.isfile(file_path) and file.lower().endswith(('.mobi', '.epub')):\n",
    "                    os.remove(file_path)\n",
    "                    deleted_files.append(file_path)\n",
    "                    summary[entry] += 1\n",
    "                    print(f\"Eliminado: {file_path}\")\n",
    "\n",
    "    # Mostrar resumen\n",
    "    print(\"\\nResumen de archivos eliminados:\")\n",
    "    for folder, count in summary.items():\n",
    "        print(f\"  {folder}: {count} archivo(s) eliminado(s)\")\n",
    "\n",
    "    if not deleted_files:\n",
    "        print(\"No se encontraron archivos .epub o .mobi a eliminar.\")\n",
    "\n",
    "    return deleted_files\n"
   ]
  },
  {
   "cell_type": "code",
   "execution_count": null,
   "metadata": {},
   "outputs": [],
   "source": [
    "# CUIDADO! Correr la indexación antes de correr esta función, o se pueden perder los datos\n",
    "delete_orphans(\n",
    "    root_path=r'D:\\CalibreLib\\Calibre Library'\n",
    ")"
   ]
  }
 ],
 "metadata": {
  "kernelspec": {
   "display_name": "base",
   "language": "python",
   "name": "python3"
  },
  "language_info": {
   "codemirror_mode": {
    "name": "ipython",
    "version": 3
   },
   "file_extension": ".py",
   "mimetype": "text/x-python",
   "name": "python",
   "nbconvert_exporter": "python",
   "pygments_lexer": "ipython3",
   "version": "3.12.3"
  }
 },
 "nbformat": 4,
 "nbformat_minor": 2
}
